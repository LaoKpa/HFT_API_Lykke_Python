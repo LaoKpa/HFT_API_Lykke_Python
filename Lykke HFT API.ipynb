{
 "cells": [
  {
   "cell_type": "markdown",
   "metadata": {},
   "source": [
    "# HFT-API For Lykke Exchange\n",
    "\n",
    "https://www.lykke.com/lykke_api\n",
    "\n",
    "https://hft-api.lykke.com/swagger/ui/index.html"
   ]
  },
  {
   "cell_type": "code",
   "execution_count": 140,
   "metadata": {
    "collapsed": true
   },
   "outputs": [],
   "source": [
    "import requests, json"
   ]
  },
  {
   "cell_type": "markdown",
   "metadata": {},
   "source": [
    "## AssetPairs"
   ]
  },
  {
   "cell_type": "markdown",
   "metadata": {},
   "source": [
    "### GET /api/AssetPairs"
   ]
  },
  {
   "cell_type": "code",
   "execution_count": 172,
   "metadata": {
    "collapsed": true
   },
   "outputs": [],
   "source": [
    "def GetAssetPairs(pairId=\"\"):    \n",
    "    url = 'https://hft-api.lykke.com/api/AssetPairs'\n",
    "    if (pairId != \"\"):\n",
    "        url += \"/\" + pairId\n",
    "    headers = {'Accept': 'application/json'}\n",
    "    r = requests.get(url, headers=headers)\n",
    "    return r"
   ]
  },
  {
   "cell_type": "code",
   "execution_count": 173,
   "metadata": {},
   "outputs": [
    {
     "name": "stdout",
     "output_type": "stream",
     "text": [
      "<Response [200]>\n",
      "<Response [200]>\n"
     ]
    }
   ],
   "source": [
    "# Example:\n",
    "r = GetAssetPairs()\n",
    "print r\n",
    "r = GetAssetPairs(\"AUDUSD\")\n",
    "print r"
   ]
  },
  {
   "cell_type": "markdown",
   "metadata": {},
   "source": [
    "## IsAlive"
   ]
  },
  {
   "cell_type": "code",
   "execution_count": 174,
   "metadata": {
    "collapsed": true
   },
   "outputs": [],
   "source": [
    "def IsAlive():    \n",
    "    url = 'https://hft-api.lykke.com/api/IsAlive'\n",
    "    headers = {'Accept': 'application/json'}\n",
    "    r = requests.get(url, headers=headers)\n",
    "    return r"
   ]
  },
  {
   "cell_type": "code",
   "execution_count": 175,
   "metadata": {},
   "outputs": [
    {
     "name": "stdout",
     "output_type": "stream",
     "text": [
      "<Response [200]>\n"
     ]
    }
   ],
   "source": [
    "# Example:\n",
    "r = IsAlive()\n",
    "print r"
   ]
  },
  {
   "cell_type": "markdown",
   "metadata": {},
   "source": [
    "## OrderBooks"
   ]
  },
  {
   "cell_type": "markdown",
   "metadata": {},
   "source": [
    "### GET /api/OrderBooks"
   ]
  },
  {
   "cell_type": "code",
   "execution_count": 181,
   "metadata": {},
   "outputs": [],
   "source": [
    "def GetOrderBooks(assetPairId=\"\"):    \n",
    "    url = 'https://hft-api.lykke.com/api/OrderBooks'\n",
    "    if (assetPairId != \"\"):\n",
    "        url += \"/\" + assetPairId\n",
    "    headers = {'Accept': 'application/json'}\n",
    "    r = requests.get(url, headers=headers)\n",
    "    return r"
   ]
  },
  {
   "cell_type": "code",
   "execution_count": 182,
   "metadata": {},
   "outputs": [
    {
     "name": "stdout",
     "output_type": "stream",
     "text": [
      "<Response [200]>\n",
      "<Response [200]>\n"
     ]
    }
   ],
   "source": [
    "# Example:\n",
    "r = GetOrderBooks()\n",
    "print r\n",
    "r = GetOrderBooks(\"AUDUSD\")\n",
    "print r"
   ]
  },
  {
   "cell_type": "markdown",
   "metadata": {},
   "source": [
    "## Orders"
   ]
  },
  {
   "cell_type": "markdown",
   "metadata": {},
   "source": [
    "### GET /api/Orders"
   ]
  },
  {
   "cell_type": "code",
   "execution_count": 183,
   "metadata": {
    "collapsed": true
   },
   "outputs": [],
   "source": [
    "# Values of status:\n",
    "    # \"\"\n",
    "    # \"Pending\"\n",
    "    # \"InOrderBook\"\n",
    "    # \"Processing\"\n",
    "    # \"Matched\"\n",
    "    # \"NotEnoughFunds\"\n",
    "    # \"NoLiquidity\"\n",
    "    # \"UnknownAsset\"\n",
    "    # \"Cancelled\"\n",
    "    # \"LeadToNegativeSpread\"\n",
    "def GetOrders(apiKey, status=\"\"):    \n",
    "    url = 'https://hft-api.lykke.com/api/Orders'\n",
    "    if (status != \"\"):\n",
    "        url += \"?status=\" + status \n",
    "    headers = {'Accept': 'application/json', 'api-key': apiKey}\n",
    "    r = requests.get(url, headers=headers)\n",
    "    return r"
   ]
  },
  {
   "cell_type": "code",
   "execution_count": 186,
   "metadata": {},
   "outputs": [
    {
     "name": "stdout",
     "output_type": "stream",
     "text": [
      "<Response [200]>\n"
     ]
    }
   ],
   "source": [
    "# Example:\n",
    "r = GetOrders(\"e2ffaaed-5a1e-4d00-aa62-e2ffaaed\", status=\"InOrderBook\")\n",
    "print r"
   ]
  },
  {
   "cell_type": "markdown",
   "metadata": {},
   "source": [
    "### POST /api/Orders/market"
   ]
  },
  {
   "cell_type": "code",
   "execution_count": 188,
   "metadata": {
    "code_folding": [],
    "collapsed": true
   },
   "outputs": [],
   "source": [
    "#  \"AssetPairId\": \"string\",\n",
    "#  \"Asset\": \"string\",\n",
    "#  \"OrderAction\": \"Buy\",\n",
    "#  \"Volume\": 0.02\n",
    "def PostMarket(apiKey, assetPairId, asset, orderAction, volume):    \n",
    "    url = 'https://hft-api.lykke.com/api/Orders/market'\n",
    "    headers = {'Content-Type': 'application/json-patch+json', 'Accept': 'application/json', 'api-key': apiKey}\n",
    "    data = {\"AssetPairId\":assetPairId, \"Asset\": asset, \"OrderAction\": orderAction, \"Volume\": volume}\n",
    "    r = requests.post(headers=headers, json=data, url=url)\n",
    "    return r"
   ]
  },
  {
   "cell_type": "code",
   "execution_count": 191,
   "metadata": {},
   "outputs": [
    {
     "name": "stdout",
     "output_type": "stream",
     "text": [
      "<Response [200]>\n"
     ]
    }
   ],
   "source": [
    "# Example:\n",
    "r = PostMarket(\"e2ffaaed-5a1e-4d00-aa62-e2ffaaed\", \"USDCHF\", \"USD\", \"Buy\", 0.01)\n",
    "print r"
   ]
  },
  {
   "cell_type": "markdown",
   "metadata": {
    "collapsed": true
   },
   "source": [
    "### POST /api/Orders/limit"
   ]
  },
  {
   "cell_type": "code",
   "execution_count": 192,
   "metadata": {
    "collapsed": true
   },
   "outputs": [],
   "source": [
    "#  \"AssetPairId\": \"USDCHF\",\n",
    "#  \"OrderAction\": \"Buy\",\n",
    "#  \"Volume\": 0.08,\n",
    "#  \"Price\": 0.8999\n",
    "def LimitOrderRequest(apiKey, AssetPairId, OrderAction, Volume, Price):    \n",
    "    url = 'https://hft-api.lykke.com/api/Orders/limit'\n",
    "    headers = {'Content-Type': 'application/json-patch+json', 'Accept': 'application/json', 'api-key': apiKey}\n",
    "    data = {\"AssetPairId\":AssetPairId, \"OrderAction\": OrderAction, \"Volume\": Volume, \"Price\": Price}\n",
    "    r = requests.post(headers=headers, json=data, url=url)\n",
    "    return r"
   ]
  },
  {
   "cell_type": "code",
   "execution_count": 198,
   "metadata": {},
   "outputs": [
    {
     "name": "stdout",
     "output_type": "stream",
     "text": [
      "<Response [200]>\n"
     ]
    }
   ],
   "source": [
    "# Example:\n",
    "r = LimitOrderRequest(\"e2ffaaed-5a1e-4d00-aa62-e2ffaaed\", \"USDCHF\", \"Sell\", 0.1, 1.11111)\n",
    "print r"
   ]
  },
  {
   "cell_type": "markdown",
   "metadata": {
    "collapsed": true
   },
   "source": [
    "### POST /api/Orders/{id}/Cancel"
   ]
  },
  {
   "cell_type": "code",
   "execution_count": 145,
   "metadata": {
    "collapsed": true
   },
   "outputs": [],
   "source": [
    "def CancelLimitOrder(apiKey, orderId):    \n",
    "    url = 'https://hft-api.lykke.com/api/Orders/' + orderId + '/Cancel'\n",
    "    headers = {'api-key': apiKey}\n",
    "    r = requests.post(headers=headers, url=url)\n",
    "    return r"
   ]
  },
  {
   "cell_type": "code",
   "execution_count": 146,
   "metadata": {},
   "outputs": [
    {
     "name": "stdout",
     "output_type": "stream",
     "text": [
      "<Response [200]>\n"
     ]
    }
   ],
   "source": [
    "# Example:\n",
    "r = CancelLimitOrder(\"e2ffaaed-5a1e-4d00-aa62-e2ffaaed\", \"f36d4306-7128-450d-8769-c30f02ad574b\")\n",
    "print r"
   ]
  },
  {
   "cell_type": "markdown",
   "metadata": {},
   "source": [
    "### GET /api/Orders/{id}"
   ]
  },
  {
   "cell_type": "code",
   "execution_count": 150,
   "metadata": {
    "collapsed": true
   },
   "outputs": [],
   "source": [
    "def GetOrderInfo(apiKey, orderId):    \n",
    "    url = 'https://hft-api.lykke.com/api/Orders/' + orderId\n",
    "    headers = {'Accept': 'application/json', 'api-key': apiKey}\n",
    "    r = requests.get(headers=headers, url=url)\n",
    "    return r"
   ]
  },
  {
   "cell_type": "code",
   "execution_count": 151,
   "metadata": {},
   "outputs": [
    {
     "name": "stdout",
     "output_type": "stream",
     "text": [
      "<Response [200]>\n"
     ]
    }
   ],
   "source": [
    "# Example:\n",
    "r = GetOrderInfo(\"e2ffaaed-5a1e-4d00-aa62-e2ffaaed\", \"2b68de25-55d1-4026-9c8a-4799f51ced13\")\n",
    "print r"
   ]
  },
  {
   "cell_type": "markdown",
   "metadata": {
    "collapsed": true
   },
   "source": [
    "## Wallets"
   ]
  },
  {
   "cell_type": "markdown",
   "metadata": {},
   "source": [
    "### GET /api/Wallets"
   ]
  },
  {
   "cell_type": "code",
   "execution_count": 155,
   "metadata": {
    "collapsed": true
   },
   "outputs": [],
   "source": [
    "def GetWalletsInfo(apiKey):    \n",
    "    url = 'https://hft-api.lykke.com/api/Wallets'\n",
    "    headers = {'Accept': 'application/json', 'api-key': apiKey}\n",
    "    r = requests.get(headers=headers, url=url)\n",
    "    return r"
   ]
  },
  {
   "cell_type": "code",
   "execution_count": 157,
   "metadata": {},
   "outputs": [
    {
     "name": "stdout",
     "output_type": "stream",
     "text": [
      "<Response [200]>\n"
     ]
    }
   ],
   "source": [
    "# Example:\n",
    "r = GetWalletsInfo(\"e2ffaaed-5a1e-4d00-aa62-e2ffaaed\")\n",
    "print r"
   ]
  },
  {
   "cell_type": "code",
   "execution_count": null,
   "metadata": {
    "collapsed": true
   },
   "outputs": [],
   "source": []
  }
 ],
 "metadata": {
  "hide_input": false,
  "kernelspec": {
   "display_name": "Python 2",
   "language": "python",
   "name": "python2"
  },
  "language_info": {
   "codemirror_mode": {
    "name": "ipython",
    "version": 2
   },
   "file_extension": ".py",
   "mimetype": "text/x-python",
   "name": "python",
   "nbconvert_exporter": "python",
   "pygments_lexer": "ipython2",
   "version": "2.7.13"
  },
  "latex_envs": {
   "bibliofile": "biblio.bib",
   "cite_by": "apalike",
   "current_citInitial": 1,
   "eqLabelWithNumbers": true,
   "eqNumInitial": 0
  },
  "toc": {
   "toc_cell": false,
   "toc_number_sections": true,
   "toc_threshold": 6,
   "toc_window_display": false
  }
 },
 "nbformat": 4,
 "nbformat_minor": 2
}
